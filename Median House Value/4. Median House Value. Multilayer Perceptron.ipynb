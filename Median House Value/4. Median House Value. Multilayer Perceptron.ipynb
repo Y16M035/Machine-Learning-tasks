{
  "nbformat": 4,
  "nbformat_minor": 0,
  "metadata": {
    "colab": {
      "name": "4.Median House Value. One Hidden Layer.ipynb",
      "provenance": [],
      "collapsed_sections": []
    },
    "language_info": {
      "codemirror_mode": {
        "name": "ipython",
        "version": 3
      },
      "file_extension": ".py",
      "mimetype": "text/x-python",
      "name": "python",
      "nbconvert_exporter": "python",
      "pygments_lexer": "ipython3",
      "version": "3.6.7"
    },
    "kernelspec": {
      "name": "python3",
      "display_name": "Python 3"
    },
    "accelerator": "GPU"
  },
  "cells": [
    {
      "cell_type": "markdown",
      "metadata": {
        "id": "JdAhwJlcoW5q"
      },
      "source": [
        "#Median House Value with one-hidden layer neural networks (Classification)\n",
        "### Tensorflow 2"
      ]
    },
    {
      "cell_type": "markdown",
      "metadata": {
        "id": "2mc93g0NKaoW"
      },
      "source": [
        "## Import libraries \n",
        "\n"
      ]
    },
    {
      "cell_type": "markdown",
      "metadata": {
        "id": "or0Bc7cY6PBK"
      },
      "source": [
        "Runtime type has been set to GPU"
      ]
    },
    {
      "cell_type": "code",
      "metadata": {
        "id": "kUkW4JNxoW5s",
        "outputId": "bf7d0f7c-8eee-4856-dda2-e6593868e58b",
        "colab": {
          "base_uri": "https://localhost:8080/",
          "height": 35
        }
      },
      "source": [
        "import tensorflow as tf\n",
        "\n",
        "import numpy as np\n",
        "import pandas as pd\n",
        "import matplotlib.pyplot as plt\n",
        "from tqdm import tqdm\n",
        "from google.colab import drive\n",
        "drive.mount('/gdrive', force_remount=True)"
      ],
      "execution_count": null,
      "outputs": [
        {
          "output_type": "stream",
          "text": [
            "Mounted at /gdrive\n"
          ],
          "name": "stdout"
        }
      ]
    },
    {
      "cell_type": "markdown",
      "metadata": {
        "id": "kwyodYMQKiJu"
      },
      "source": [
        "## 2. Load data"
      ]
    },
    {
      "cell_type": "code",
      "metadata": {
        "id": "3yXumtJ0oW5y",
        "outputId": "33044ebb-c114-428a-d354-81efa9a147dd",
        "colab": {
          "base_uri": "https://localhost:8080/",
          "height": 88
        }
      },
      "source": [
        "# Modify the paths accordingly to point the csv files in your own gdrive file system.\n",
        "ATT_FILE = \"/gdrive/My Drive/Colab Notebooks/datasets/Housing/MedianHouseValue/MedianHouseValuePreparedCleanAttributes.csv\"\n",
        "LABEL_FILE = \"/gdrive/My Drive/Colab Notebooks/datasets/Housing/MedianHouseValue/MedianHouseValueOneHotEncodedClasses.csv\"\n",
        "\n",
        "TRAIN_RATE=0.8 # 80% of the entire dataset is for training purposes\n",
        "\n",
        "attributes = pd.read_csv(ATT_FILE)\n",
        "label = pd.read_csv(LABEL_FILE)\n",
        "\n",
        "n_instances = attributes.shape[0]\n",
        "n_train = int(n_instances*TRAIN_RATE)\n",
        "n_dev = int((n_instances-n_train)/2)\n",
        "#n_final_test = n_instances-n_train-n_dev\n",
        "\n",
        "x_train = attributes.values[:n_train]\n",
        "t_train = label.values[:n_train]\n",
        "\n",
        "x_dev = attributes.values[n_train:n_train+n_dev]\n",
        "t_dev = label.values[n_train:n_train+n_dev]\n",
        "\n",
        "print (\"x_train:\",x_train.shape)\n",
        "print (\"t_train:\",t_train.shape)\n",
        "\n",
        "print (\"x_dev:\",x_dev.shape)\n",
        "print (\"t_dev:\",t_dev.shape)\n",
        "\n",
        "# We can not employ the final test set yet, since this is not the final neural approach "
      ],
      "execution_count": null,
      "outputs": [
        {
          "output_type": "stream",
          "text": [
            "x_train: (16342, 9)\n",
            "t_train: (16342, 3)\n",
            "x_dev: (2043, 9)\n",
            "t_dev: (2043, 3)\n"
          ],
          "name": "stdout"
        }
      ]
    },
    {
      "cell_type": "markdown",
      "metadata": {
        "id": "XFxLit6PoW55"
      },
      "source": [
        "## 3. Initialize variables"
      ]
    },
    {
      "cell_type": "code",
      "metadata": {
        "id": "awoTBHr_oW56"
      },
      "source": [
        "INPUTS = x_train.shape[1]\n",
        "OUTPUTS = t_train.shape[1]\n",
        "NUM_TRAINING_EXAMPLES = int(round(x_train.shape[0]/1))\n",
        "NUM_DEV_EXAMPLES = int (round (x_dev.shape[0]/1))"
      ],
      "execution_count": null,
      "outputs": []
    },
    {
      "cell_type": "markdown",
      "metadata": {
        "id": "1dozYxaroW59"
      },
      "source": [
        "Some data is displayed to test correctness:"
      ]
    },
    {
      "cell_type": "code",
      "metadata": {
        "id": "oo0AUb67oW6I",
        "outputId": "6ede1a4a-12c7-4bfe-aae4-75f6ffcb1005",
        "colab": {
          "base_uri": "https://localhost:8080/",
          "height": 193
        }
      },
      "source": [
        "x_train[:5]"
      ],
      "execution_count": null,
      "outputs": [
        {
          "output_type": "execute_result",
          "data": {
            "text/plain": [
              "array([[ 0.21713147, -0.69394261,  0.41176471, -0.93926446, -0.88733706,\n",
              "        -0.90924634, -0.89278079, -0.77585137, -1.        ],\n",
              "       [-0.69322709,  0.17747078, -0.29411765, -0.91795107, -0.88671633,\n",
              "        -0.95448303, -0.88949186, -0.59159184,  1.        ],\n",
              "       [ 0.44820717, -0.95961743,  0.37254902, -0.8306628 , -0.80074488,\n",
              "        -0.89349477, -0.79575728, -0.5589716 ,  1.        ],\n",
              "       [ 0.29083665, -0.7088204 , -0.41176471, -0.87629076, -0.85909373,\n",
              "        -0.94315984, -0.84377569, -0.48705535, -1.        ],\n",
              "       [-0.40039841,  0.15834219, -0.49019608, -0.8418536 , -0.84574798,\n",
              "        -0.93413493, -0.82765992, -0.16468738, -0.33333333]])"
            ]
          },
          "metadata": {
            "tags": []
          },
          "execution_count": 4
        }
      ]
    },
    {
      "cell_type": "code",
      "metadata": {
        "id": "7nMjKqIVoW6K",
        "outputId": "9d5af6f6-ff13-4a89-c4c0-8cc52b2dcbd3",
        "colab": {
          "base_uri": "https://localhost:8080/",
          "height": 105
        }
      },
      "source": [
        "t_train[:5]"
      ],
      "execution_count": null,
      "outputs": [
        {
          "output_type": "execute_result",
          "data": {
            "text/plain": [
              "array([[1., 0., 0.],\n",
              "       [0., 0., 1.],\n",
              "       [1., 0., 0.],\n",
              "       [0., 1., 0.],\n",
              "       [0., 0., 1.]])"
            ]
          },
          "metadata": {
            "tags": []
          },
          "execution_count": 5
        }
      ]
    },
    {
      "cell_type": "code",
      "metadata": {
        "id": "RykFpOoboW6M",
        "outputId": "52de4cae-2ee0-4b5e-e12b-f1635e5030b7",
        "colab": {
          "base_uri": "https://localhost:8080/",
          "height": 193
        }
      },
      "source": [
        "x_dev[:5]"
      ],
      "execution_count": null,
      "outputs": [
        {
          "output_type": "execute_result",
          "data": {
            "text/plain": [
              "array([[ 0.22908367, -0.67906482,  0.45098039, -0.83366397, -0.77343265,\n",
              "        -0.81524146, -0.76155238, -0.67868029, -1.        ],\n",
              "       [-0.61752988,  0.10308183,  1.        , -0.94201129, -0.93078833,\n",
              "        -0.97247681, -0.93257688, -0.37100178,  0.33333333],\n",
              "       [-0.39043825,  0.16046759, -0.88235294, -0.92929447, -0.90037244,\n",
              "        -0.90016536, -0.89870087, -0.74136908, -0.33333333],\n",
              "       [-0.24701195, -0.45377258, -0.33333333, -0.85156926, -0.82774674,\n",
              "        -0.94030102, -0.81877981, -0.58286093, -1.        ],\n",
              "       [ 0.22908367, -0.73645058, -0.25490196, -0.90589552, -0.82774674,\n",
              "        -0.90420135, -0.81746423, -0.86805699,  1.        ]])"
            ]
          },
          "metadata": {
            "tags": []
          },
          "execution_count": 6
        }
      ]
    },
    {
      "cell_type": "code",
      "metadata": {
        "id": "7cy975RjoW6N",
        "outputId": "28d2616f-30ad-4ebf-ca0e-8f09a5b8bb56",
        "colab": {
          "base_uri": "https://localhost:8080/",
          "height": 105
        }
      },
      "source": [
        "t_dev[:5]"
      ],
      "execution_count": null,
      "outputs": [
        {
          "output_type": "execute_result",
          "data": {
            "text/plain": [
              "array([[1., 0., 0.],\n",
              "       [0., 0., 1.],\n",
              "       [1., 0., 0.],\n",
              "       [0., 1., 0.],\n",
              "       [0., 1., 0.]])"
            ]
          },
          "metadata": {
            "tags": []
          },
          "execution_count": 7
        }
      ]
    },
    {
      "cell_type": "code",
      "metadata": {
        "id": "XReBWlvlLA1O"
      },
      "source": [
        "x_train = tf.cast(x_train,tf.float32)\n",
        "t_train = tf.cast(t_train,tf.float32)\n",
        "x_dev = tf.cast(x_dev,tf.float32)\n",
        "t_dev = tf.cast(t_dev,tf.float32)"
      ],
      "execution_count": null,
      "outputs": []
    },
    {
      "cell_type": "markdown",
      "metadata": {
        "id": "N1N4Lt6QoW6P"
      },
      "source": [
        "## 4. Set hyperparameters"
      ]
    },
    {
      "cell_type": "markdown",
      "metadata": {
        "id": "dkkRVc5doW6Q"
      },
      "source": [
        "The learning rate $\\alpha$, the batch size, and the number of neurons in the hidden layer are the three hyperparameters to adjust. The learning process stops when it reaches 20,000 learning iterations. An iteration comprises presenting the network *batch_size* learning examples and then adjusting the weights (parameters)."
      ]
    },
    {
      "cell_type": "code",
      "metadata": {
        "id": "nuHkCgWaoW6Q"
      },
      "source": [
        "n_iterations = 20000 \n",
        "learning_rate = 0.1\n",
        "batch_size = 500\n",
        "n_hidden = 1000"
      ],
      "execution_count": null,
      "outputs": []
    },
    {
      "cell_type": "markdown",
      "metadata": {
        "id": "QRLDF1BgoW6R"
      },
      "source": [
        "## 5. Build the model: a full-connected 9-1000-3 neural network architecture"
      ]
    },
    {
      "cell_type": "code",
      "metadata": {
        "id": "oYJdN9Hp36-q"
      },
      "source": [
        "W1 = tf.Variable (tf.random.uniform ([INPUTS,n_hidden],-1,1), name=\"W1\")\n",
        "b1 = tf.Variable (tf.zeros([n_hidden]), name = \"bias1\")\n",
        "W2 = tf.Variable (tf.random.uniform ([n_hidden,OUTPUTS],-1,1), name=\"W2\")\n",
        "b2 = tf.Variable (tf.zeros([OUTPUTS]), name = \"bias2\")"
      ],
      "execution_count": null,
      "outputs": []
    },
    {
      "cell_type": "markdown",
      "metadata": {
        "id": "R_VmxXz7oW6T"
      },
      "source": [
        "The following code defines a classical multilayer perceptron: X is the input vector with nine components, 1,000 neurons in the hidden layer with **tanh activation function**, and three outputs with the softmax activation function."
      ]
    },
    {
      "cell_type": "code",
      "metadata": {
        "id": "EWat5nSv4iWe"
      },
      "source": [
        "def net (X):\n",
        "  hidden = tf.nn.tanh(tf.add(tf.matmul(X,W1),b1), name=\"hidden\")\n",
        "  return tf.add (tf.matmul(hidden,W2),b2, name=\"net_out\")\n",
        "\n",
        "def predict (X):\n",
        "  return tf.nn.softmax (logits=net(X), name=\"y\")"
      ],
      "execution_count": null,
      "outputs": []
    },
    {
      "cell_type": "markdown",
      "metadata": {
        "id": "mEsu9_TpoW6U"
      },
      "source": [
        "The *log-loss*, *cross-entropy* $\\mathcal{L}$ (the sun of log-loss is a loss) and the *cost* $J$ (the mean of cross-entropy) functions: $J(W) = \\frac{1}{m}\\sum_{p=1}^{m}\\mathcal{L}^{(p)}(y,t)$, where $\\mathcal{L}^{(p)}(y,t)=-\\sum_{i=1}^{n_y}t_i\\log (y_i).$"
      ]
    },
    {
      "cell_type": "code",
      "metadata": {
        "id": "7BOr6g7qoW6V"
      },
      "source": [
        "def mean_log_loss (n,t):\n",
        "  cross_entropy = tf.nn.softmax_cross_entropy_with_logits (labels=t, logits=n)\n",
        "  return tf.reduce_mean (cross_entropy, name=\"cost\")"
      ],
      "execution_count": null,
      "outputs": []
    },
    {
      "cell_type": "markdown",
      "metadata": {
        "id": "I_7F4ReAoW6W"
      },
      "source": [
        "The training algorithm is the gradient descent method:"
      ]
    },
    {
      "cell_type": "code",
      "metadata": {
        "id": "Sf4nKA8DoW6W"
      },
      "source": [
        "def training_op(x, t, alpha_lr):\n",
        "        #First the we compute the error \n",
        "        with tf.GradientTape(persistent=True) as g: #persistent=True so parameters can change more than once\n",
        "            error = mean_log_loss(net(x),t)\n",
        "\n",
        "        #Then, the partial derivative of the error function regarding the weights from the top to the bottom\n",
        "        dE_dW2 = g.gradient(error, W2)\n",
        "        dE_db2 = g.gradient(error, b2)\n",
        "        \n",
        "        dE_dW1 = g.gradient(error, W1)\n",
        "        dE_db1 = g.gradient(error, b1)\n",
        "        \n",
        "               \n",
        "        #Finally, we multiply the partial derivative by the learning rate and apply the increment \n",
        "        W1.assign_sub(alpha_lr * dE_dW1)\n",
        "        b1.assign_sub(alpha_lr * dE_db1)\n",
        "\n",
        "        W2.assign_sub(alpha_lr * dE_dW2)\n",
        "        b2.assign_sub(alpha_lr * dE_db2)\n",
        "\n",
        "        return error"
      ],
      "execution_count": null,
      "outputs": []
    },
    {
      "cell_type": "markdown",
      "metadata": {
        "id": "8sdXmmqFoW6Y"
      },
      "source": [
        "Model evaluation: accuracy. The percentage of correctly classified instances."
      ]
    },
    {
      "cell_type": "code",
      "metadata": {
        "id": "fVKp4GProW6Y"
      },
      "source": [
        "def correct_predictions (y,t):\n",
        "  return tf.equal(tf.argmax(y,1),tf.argmax(t,1))\n",
        "\n",
        "def accuracy (y,t):\n",
        "  return tf.reduce_mean(tf.cast(correct_predictions(y,t),tf.float32))"
      ],
      "execution_count": null,
      "outputs": []
    },
    {
      "cell_type": "markdown",
      "metadata": {
        "id": "EIkJIxAjoW6Z"
      },
      "source": [
        "## 6. Execute the model MBGD\n",
        "Since the batch size is 500 and the number of examples is 16,342, there are 33 iterations per epoch. Therefore 20,000 iterations are equivalent to about 600 epochs.  "
      ]
    },
    {
      "cell_type": "code",
      "metadata": {
        "id": "T730zK-FoW6a",
        "outputId": "45720f36-a44d-4045-e2fd-b1a50daa1ce7",
        "colab": {
          "base_uri": "https://localhost:8080/",
          "height": 35
        }
      },
      "source": [
        "accuracy_train_history = np.empty([n_iterations])\n",
        "error_train_history = np.empty([n_iterations])\n",
        "for iteration in tqdm(range(n_iterations)):\n",
        "  offset = (iteration * batch_size) % (NUM_TRAINING_EXAMPLES - batch_size)\n",
        "  error = training_op (x_train[offset:(offset+batch_size)], \n",
        "                       t_train[offset:(offset+batch_size)], learning_rate)\n",
        "  accuracy_train_history[iteration] = accuracy (predict(x_train[offset:(offset+batch_size)]), \n",
        "                                                        t_train[offset:(offset+batch_size)])\n",
        "  error_train_history[iteration] = error\n",
        "    "
      ],
      "execution_count": null,
      "outputs": [
        {
          "output_type": "stream",
          "text": [
            "100%|██████████| 20000/20000 [02:47<00:00, 119.10it/s]\n"
          ],
          "name": "stderr"
        }
      ]
    },
    {
      "cell_type": "markdown",
      "metadata": {
        "id": "y3NUaf_OPFEJ"
      },
      "source": [
        "## Get the results"
      ]
    },
    {
      "cell_type": "code",
      "metadata": {
        "scrolled": true,
        "id": "orCObicboW6h",
        "outputId": "59be23a8-1a2c-4add-ad62-a80078b3f85b",
        "colab": {
          "base_uri": "https://localhost:8080/",
          "height": 312
        }
      },
      "source": [
        "plt.title (\"Accuracy Evolution\")\n",
        "plt.xlabel (\"Iterations\")\n",
        "plt.ylabel (\"Accuracy\")\n",
        "plt.plot (range(n_iterations),accuracy_train_history)"
      ],
      "execution_count": null,
      "outputs": [
        {
          "output_type": "execute_result",
          "data": {
            "text/plain": [
              "[<matplotlib.lines.Line2D at 0x7f8790127a20>]"
            ]
          },
          "metadata": {
            "tags": []
          },
          "execution_count": 16
        },
        {
          "output_type": "display_data",
          "data": {
            "image/png": "[encoded data removed]",
            "text/plain": [
              "<Figure size 432x288 with 1 Axes>"
            ]
          },
          "metadata": {
            "tags": [],
            "needs_background": "light"
          }
        }
      ]
    },
    {
      "cell_type": "code",
      "metadata": {
        "id": "hpTDKf-JbHlz",
        "outputId": "3379bdb9-ff59-4cee-d414-40ebe9c7304d",
        "colab": {
          "base_uri": "https://localhost:8080/",
          "height": 312
        }
      },
      "source": [
        "plt.title (\"Mean Log Loss Evolution\")\n",
        "plt.xlabel (\"Iterations\")\n",
        "plt.ylabel (\"Mean Log Loss\")\n",
        "plt.plot (range(n_iterations),error_train_history)"
      ],
      "execution_count": null,
      "outputs": [
        {
          "output_type": "execute_result",
          "data": {
            "text/plain": [
              "[<matplotlib.lines.Line2D at 0x7f8790127908>]"
            ]
          },
          "metadata": {
            "tags": []
          },
          "execution_count": 17
        },
        {
          "output_type": "display_data",
          "data": {
            "image/png": "[encoded data removed]",
            "text/plain": [
              "<Figure size 432x288 with 1 Axes>"
            ]
          },
          "metadata": {
            "tags": [],
            "needs_background": "light"
          }
        }
      ]
    },
    {
      "cell_type": "markdown",
      "metadata": {
        "id": "Uu0Fx3mAoW6j"
      },
      "source": [
        "Note the accuracy $zig$-$zags$ due to mini-batch $zig$-$zagging$ errors, yet the trend is positive.  "
      ]
    },
    {
      "cell_type": "code",
      "metadata": {
        "id": "TSHby0D2bWgB",
        "outputId": "3149feff-84a1-4a8e-d13a-c73dc76b8a47",
        "colab": {
          "base_uri": "https://localhost:8080/",
          "height": 88
        }
      },
      "source": [
        "final_accuracy_train = accuracy (predict(x_train),t_train)\n",
        "final_accuracy_dev = accuracy (predict(x_dev),t_dev)\n",
        "final_train_mean_log_loss = mean_log_loss(net(x_train),t_train)\n",
        "final_dev_mean_log_loss = mean_log_loss(net(x_dev),t_dev)\n",
        "\n",
        "print (\"Final Accuracy in training: \"+str(final_accuracy_train.numpy()))\n",
        "print (\"Final Accuracy for the development test set: \"+str(final_accuracy_dev.numpy()))\n",
        "print (\"Final training mean-log-loss in training: \"+str(final_train_mean_log_loss.numpy()))\n",
        "print (\"Final mean-log-loss for the development test set: \"+str(final_dev_mean_log_loss.numpy()))"
      ],
      "execution_count": null,
      "outputs": [
        {
          "output_type": "stream",
          "text": [
            "Final Accuracy in training: 0.7623302\n",
            "Final Accuracy for the development test set: 0.75624084\n",
            "Final training mean-log-loss in training: 0.55060273\n",
            "Final mean-log-loss for the development test set: 0.54778117\n"
          ],
          "name": "stdout"
        }
      ]
    },
    {
      "cell_type": "code",
      "metadata": {
        "id": "cfoo4xH1bnks",
        "outputId": "fa1dba61-0a1e-4af3-955c-e107f7859272",
        "colab": {
          "base_uri": "https://localhost:8080/",
          "height": 369
        }
      },
      "source": [
        "predictions = predict(x_dev)\n",
        "predictions[:20].numpy()"
      ],
      "execution_count": null,
      "outputs": [
        {
          "output_type": "execute_result",
          "data": {
            "text/plain": [
              "array([[3.0701756e-01, 6.8484116e-01, 8.1413267e-03],\n",
              "       [1.4287152e-03, 6.5918408e-02, 9.3265283e-01],\n",
              "       [6.1058760e-01, 3.8474438e-01, 4.6680951e-03],\n",
              "       [7.1074203e-02, 3.9396298e-01, 5.3496283e-01],\n",
              "       [2.4671483e-01, 6.8253392e-01, 7.0751220e-02],\n",
              "       [6.1851060e-03, 4.4859138e-01, 5.4522347e-01],\n",
              "       [1.0699939e-03, 1.6754314e-01, 8.3138686e-01],\n",
              "       [4.2196320e-05, 2.2528470e-02, 9.7742927e-01],\n",
              "       [3.2011400e-07, 5.6637145e-05, 9.9994302e-01],\n",
              "       [3.9153236e-01, 5.5790550e-01, 5.0562132e-02],\n",
              "       [6.8452820e-02, 8.1904292e-01, 1.1250435e-01],\n",
              "       [5.2843344e-01, 4.3201599e-01, 3.9550610e-02],\n",
              "       [4.7622779e-01, 3.0000928e-01, 2.2376294e-01],\n",
              "       [2.1446067e-01, 7.1219826e-01, 7.3341109e-02],\n",
              "       [6.0228598e-01, 3.9544654e-01, 2.2674769e-03],\n",
              "       [5.5528884e-03, 1.2704985e-01, 8.6739731e-01],\n",
              "       [9.3723351e-01, 6.2184330e-02, 5.8219756e-04],\n",
              "       [5.0788018e-05, 2.0217605e-02, 9.7973162e-01],\n",
              "       [4.5452304e-02, 8.9079285e-01, 6.3754827e-02],\n",
              "       [3.9630246e-05, 6.5099550e-03, 9.9345040e-01]], dtype=float32)"
            ]
          },
          "metadata": {
            "tags": []
          },
          "execution_count": 19
        }
      ]
    },
    {
      "cell_type": "code",
      "metadata": {
        "id": "caEEbY6lb0eK",
        "outputId": "2bd7ab2c-4261-4d07-dfdf-649e234844b7",
        "colab": {
          "base_uri": "https://localhost:8080/",
          "height": 369
        }
      },
      "source": [
        "rounded_predictions=np.round(predictions)\n",
        "indices = np.argmax(predictions,1)\n",
        "for row, index in zip(rounded_predictions, indices): row[index]=1\n",
        "rounded_predictions[:20]"
      ],
      "execution_count": null,
      "outputs": [
        {
          "output_type": "execute_result",
          "data": {
            "text/plain": [
              "array([[0., 1., 0.],\n",
              "       [0., 0., 1.],\n",
              "       [1., 0., 0.],\n",
              "       [0., 0., 1.],\n",
              "       [0., 1., 0.],\n",
              "       [0., 0., 1.],\n",
              "       [0., 0., 1.],\n",
              "       [0., 0., 1.],\n",
              "       [0., 0., 1.],\n",
              "       [0., 1., 0.],\n",
              "       [0., 1., 0.],\n",
              "       [1., 0., 0.],\n",
              "       [1., 0., 0.],\n",
              "       [0., 1., 0.],\n",
              "       [1., 0., 0.],\n",
              "       [0., 0., 1.],\n",
              "       [1., 0., 0.],\n",
              "       [0., 0., 1.],\n",
              "       [0., 1., 0.],\n",
              "       [0., 0., 1.]], dtype=float32)"
            ]
          },
          "metadata": {
            "tags": []
          },
          "execution_count": 20
        }
      ]
    },
    {
      "cell_type": "code",
      "metadata": {
        "id": "52L6dX94b335",
        "outputId": "456daf5f-719b-419c-a869-4834fec20e02",
        "colab": {
          "base_uri": "https://localhost:8080/",
          "height": 369
        }
      },
      "source": [
        "t_dev[:20].numpy()"
      ],
      "execution_count": null,
      "outputs": [
        {
          "output_type": "execute_result",
          "data": {
            "text/plain": [
              "array([[1., 0., 0.],\n",
              "       [0., 0., 1.],\n",
              "       [1., 0., 0.],\n",
              "       [0., 1., 0.],\n",
              "       [0., 1., 0.],\n",
              "       [0., 1., 0.],\n",
              "       [0., 0., 1.],\n",
              "       [0., 0., 1.],\n",
              "       [0., 0., 1.],\n",
              "       [0., 1., 0.],\n",
              "       [0., 1., 0.],\n",
              "       [0., 1., 0.],\n",
              "       [1., 0., 0.],\n",
              "       [0., 0., 1.],\n",
              "       [1., 0., 0.],\n",
              "       [0., 0., 1.],\n",
              "       [1., 0., 0.],\n",
              "       [0., 0., 1.],\n",
              "       [0., 1., 0.],\n",
              "       [0., 0., 1.]], dtype=float32)"
            ]
          },
          "metadata": {
            "tags": []
          },
          "execution_count": 21
        }
      ]
    },
    {
      "cell_type": "code",
      "metadata": {
        "id": "7qGHRMG_b75T",
        "outputId": "5bf6c643-2475-49c3-d996-b5832f442df4",
        "colab": {
          "base_uri": "https://localhost:8080/",
          "height": 70
        }
      },
      "source": [
        "dev_predictions = correct_predictions(predict(x_dev),t_dev).numpy()\n",
        "dev_predictions[:20]"
      ],
      "execution_count": null,
      "outputs": [
        {
          "output_type": "execute_result",
          "data": {
            "text/plain": [
              "array([False,  True,  True, False,  True, False,  True,  True,  True,\n",
              "        True,  True, False,  True, False,  True,  True,  True,  True,\n",
              "        True,  True])"
            ]
          },
          "metadata": {
            "tags": []
          },
          "execution_count": 22
        }
      ]
    },
    {
      "cell_type": "code",
      "metadata": {
        "id": "M1ReCnKAb_7b",
        "outputId": "c9e2dfb3-7e1d-45d3-ba3c-1348f7cb9514",
        "colab": {
          "base_uri": "https://localhost:8080/",
          "height": 35
        }
      },
      "source": [
        "from collections import Counter\n",
        "Counter(dev_predictions)"
      ],
      "execution_count": null,
      "outputs": [
        {
          "output_type": "execute_result",
          "data": {
            "text/plain": [
              "Counter({False: 498, True: 1545})"
            ]
          },
          "metadata": {
            "tags": []
          },
          "execution_count": 23
        }
      ]
    },
    {
      "cell_type": "markdown",
      "metadata": {
        "id": "ZExDz1YFoW6t"
      },
      "source": [
        "**Train accuracy is now 76%, and dev accuracy has risen to 75%**.  Then, the neural model is not overfitted. The time spent is about 2:40 minutes. Mini-batch gradient descent has been applied. Backpropagation makes intensive vector computation. TPU has been employed, but the operations performed on the CPU to calculate the offset delay the whole process. "
      ]
    }
  ]
}